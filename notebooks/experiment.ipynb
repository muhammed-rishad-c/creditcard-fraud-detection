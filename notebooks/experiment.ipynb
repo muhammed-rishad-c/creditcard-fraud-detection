{
 "cells": [
  {
   "cell_type": "code",
   "execution_count": 1,
   "id": "dcccc64b",
   "metadata": {},
   "outputs": [
    {
     "name": "stderr",
     "output_type": "stream",
     "text": [
      "e:\\machine learning\\project\\creditcard-fraud-detection\\venv\\lib\\site-packages\\tqdm\\auto.py:21: TqdmWarning: IProgress not found. Please update jupyter and ipywidgets. See https://ipywidgets.readthedocs.io/en/stable/user_install.html\n",
      "  from .autonotebook import tqdm as notebook_tqdm\n"
     ]
    },
    {
     "name": "stdout",
     "output_type": "stream",
     "text": [
      "Path to dataset files: C:\\Users\\Rishad R\\.cache\\kagglehub\\datasets\\mlg-ulb\\creditcardfraud\\versions\\3\n"
     ]
    }
   ],
   "source": [
    "import kagglehub\n",
    "import os\n",
    "\n",
    "# Download latest version\n",
    "path = kagglehub.dataset_download(\"mlg-ulb/creditcardfraud\")\n",
    "\n",
    "print(\"Path to dataset files:\", path)\n",
    "\n",
    "dowloaded_path=\"C:\\\\Users\\\\Rishad R\\\\.cache\\\\kagglehub\\\\datasets\\\\mlg-ulb\\\\creditcardfraud\\\\versions\\\\3\"\n",
    "\n",
    "csv_filename=\"creditcard.csv\"\n",
    "\n",
    "csv_path=os.path.join(dowloaded_path,csv_filename)"
   ]
  },
  {
   "cell_type": "code",
   "execution_count": 2,
   "id": "6cd3f01e",
   "metadata": {},
   "outputs": [],
   "source": [
    "import pandas as pd\n",
    "\n",
    "try:\n",
    "    df=pd.read_csv(csv_path)\n",
    "    os.makedirs(\"../data\")\n",
    "    df.to_csv(\"../data/raw.csv\")\n",
    "except Exception as e:\n",
    "    print(e)"
   ]
  },
  {
   "cell_type": "code",
   "execution_count": 5,
   "id": "54a7d8cb",
   "metadata": {},
   "outputs": [
    {
     "data": {
      "text/html": [
       "<div>\n",
       "<style scoped>\n",
       "    .dataframe tbody tr th:only-of-type {\n",
       "        vertical-align: middle;\n",
       "    }\n",
       "\n",
       "    .dataframe tbody tr th {\n",
       "        vertical-align: top;\n",
       "    }\n",
       "\n",
       "    .dataframe thead th {\n",
       "        text-align: right;\n",
       "    }\n",
       "</style>\n",
       "<table border=\"1\" class=\"dataframe\">\n",
       "  <thead>\n",
       "    <tr style=\"text-align: right;\">\n",
       "      <th></th>\n",
       "      <th>Time</th>\n",
       "      <th>V1</th>\n",
       "      <th>V2</th>\n",
       "      <th>V3</th>\n",
       "      <th>V4</th>\n",
       "      <th>V5</th>\n",
       "      <th>V6</th>\n",
       "      <th>V7</th>\n",
       "      <th>V8</th>\n",
       "      <th>V9</th>\n",
       "      <th>...</th>\n",
       "      <th>V21</th>\n",
       "      <th>V22</th>\n",
       "      <th>V23</th>\n",
       "      <th>V24</th>\n",
       "      <th>V25</th>\n",
       "      <th>V26</th>\n",
       "      <th>V27</th>\n",
       "      <th>V28</th>\n",
       "      <th>Amount</th>\n",
       "      <th>Class</th>\n",
       "    </tr>\n",
       "  </thead>\n",
       "  <tbody>\n",
       "    <tr>\n",
       "      <th>0</th>\n",
       "      <td>137357.0</td>\n",
       "      <td>1.715873</td>\n",
       "      <td>-1.363686</td>\n",
       "      <td>-1.453402</td>\n",
       "      <td>-1.964044</td>\n",
       "      <td>-0.751824</td>\n",
       "      <td>-0.933461</td>\n",
       "      <td>-0.129487</td>\n",
       "      <td>-0.149088</td>\n",
       "      <td>2.250904</td>\n",
       "      <td>...</td>\n",
       "      <td>0.196251</td>\n",
       "      <td>0.411417</td>\n",
       "      <td>-0.093504</td>\n",
       "      <td>-0.383897</td>\n",
       "      <td>0.029261</td>\n",
       "      <td>-0.849511</td>\n",
       "      <td>0.016169</td>\n",
       "      <td>-0.028636</td>\n",
       "      <td>188.12</td>\n",
       "      <td>0</td>\n",
       "    </tr>\n",
       "    <tr>\n",
       "      <th>1</th>\n",
       "      <td>38573.0</td>\n",
       "      <td>1.033106</td>\n",
       "      <td>-1.128746</td>\n",
       "      <td>-0.235239</td>\n",
       "      <td>-0.483255</td>\n",
       "      <td>-0.934757</td>\n",
       "      <td>-0.510761</td>\n",
       "      <td>-0.139216</td>\n",
       "      <td>-0.136076</td>\n",
       "      <td>-0.948455</td>\n",
       "      <td>...</td>\n",
       "      <td>-0.316869</td>\n",
       "      <td>-0.788229</td>\n",
       "      <td>-0.210168</td>\n",
       "      <td>0.039843</td>\n",
       "      <td>0.355740</td>\n",
       "      <td>1.077944</td>\n",
       "      <td>-0.112080</td>\n",
       "      <td>0.014622</td>\n",
       "      <td>189.06</td>\n",
       "      <td>0</td>\n",
       "    </tr>\n",
       "    <tr>\n",
       "      <th>2</th>\n",
       "      <td>34535.0</td>\n",
       "      <td>1.178608</td>\n",
       "      <td>0.151260</td>\n",
       "      <td>0.226658</td>\n",
       "      <td>1.159200</td>\n",
       "      <td>-0.433144</td>\n",
       "      <td>-0.987935</td>\n",
       "      <td>0.162881</td>\n",
       "      <td>-0.157946</td>\n",
       "      <td>0.202382</td>\n",
       "      <td>...</td>\n",
       "      <td>0.030590</td>\n",
       "      <td>-0.012767</td>\n",
       "      <td>-0.111508</td>\n",
       "      <td>0.353734</td>\n",
       "      <td>0.626009</td>\n",
       "      <td>-0.326741</td>\n",
       "      <td>-0.002265</td>\n",
       "      <td>0.023003</td>\n",
       "      <td>38.00</td>\n",
       "      <td>0</td>\n",
       "    </tr>\n",
       "    <tr>\n",
       "      <th>3</th>\n",
       "      <td>123183.0</td>\n",
       "      <td>1.791976</td>\n",
       "      <td>-1.713797</td>\n",
       "      <td>-0.827619</td>\n",
       "      <td>-1.279204</td>\n",
       "      <td>0.638454</td>\n",
       "      <td>4.717695</td>\n",
       "      <td>-2.164369</td>\n",
       "      <td>1.387360</td>\n",
       "      <td>2.914112</td>\n",
       "      <td>...</td>\n",
       "      <td>0.106916</td>\n",
       "      <td>0.660913</td>\n",
       "      <td>0.148047</td>\n",
       "      <td>0.819160</td>\n",
       "      <td>-0.365758</td>\n",
       "      <td>0.806857</td>\n",
       "      <td>0.047534</td>\n",
       "      <td>-0.035229</td>\n",
       "      <td>73.00</td>\n",
       "      <td>0</td>\n",
       "    </tr>\n",
       "    <tr>\n",
       "      <th>4</th>\n",
       "      <td>159136.0</td>\n",
       "      <td>1.880194</td>\n",
       "      <td>-0.550276</td>\n",
       "      <td>-0.346117</td>\n",
       "      <td>0.312024</td>\n",
       "      <td>-0.860775</td>\n",
       "      <td>-0.551669</td>\n",
       "      <td>-0.630595</td>\n",
       "      <td>0.079365</td>\n",
       "      <td>1.282577</td>\n",
       "      <td>...</td>\n",
       "      <td>0.291982</td>\n",
       "      <td>0.876037</td>\n",
       "      <td>0.107107</td>\n",
       "      <td>0.050152</td>\n",
       "      <td>-0.156679</td>\n",
       "      <td>-0.587042</td>\n",
       "      <td>0.042024</td>\n",
       "      <td>-0.038349</td>\n",
       "      <td>38.80</td>\n",
       "      <td>0</td>\n",
       "    </tr>\n",
       "  </tbody>\n",
       "</table>\n",
       "<p>5 rows × 31 columns</p>\n",
       "</div>"
      ],
      "text/plain": [
       "       Time        V1        V2        V3        V4        V5        V6  \\\n",
       "0  137357.0  1.715873 -1.363686 -1.453402 -1.964044 -0.751824 -0.933461   \n",
       "1   38573.0  1.033106 -1.128746 -0.235239 -0.483255 -0.934757 -0.510761   \n",
       "2   34535.0  1.178608  0.151260  0.226658  1.159200 -0.433144 -0.987935   \n",
       "3  123183.0  1.791976 -1.713797 -0.827619 -1.279204  0.638454  4.717695   \n",
       "4  159136.0  1.880194 -0.550276 -0.346117  0.312024 -0.860775 -0.551669   \n",
       "\n",
       "         V7        V8        V9  ...       V21       V22       V23       V24  \\\n",
       "0 -0.129487 -0.149088  2.250904  ...  0.196251  0.411417 -0.093504 -0.383897   \n",
       "1 -0.139216 -0.136076 -0.948455  ... -0.316869 -0.788229 -0.210168  0.039843   \n",
       "2  0.162881 -0.157946  0.202382  ...  0.030590 -0.012767 -0.111508  0.353734   \n",
       "3 -2.164369  1.387360  2.914112  ...  0.106916  0.660913  0.148047  0.819160   \n",
       "4 -0.630595  0.079365  1.282577  ...  0.291982  0.876037  0.107107  0.050152   \n",
       "\n",
       "        V25       V26       V27       V28  Amount  Class  \n",
       "0  0.029261 -0.849511  0.016169 -0.028636  188.12      0  \n",
       "1  0.355740  1.077944 -0.112080  0.014622  189.06      0  \n",
       "2  0.626009 -0.326741 -0.002265  0.023003   38.00      0  \n",
       "3 -0.365758  0.806857  0.047534 -0.035229   73.00      0  \n",
       "4 -0.156679 -0.587042  0.042024 -0.038349   38.80      0  \n",
       "\n",
       "[5 rows x 31 columns]"
      ]
     },
     "execution_count": 5,
     "metadata": {},
     "output_type": "execute_result"
    }
   ],
   "source": [
    "import pandas as pd\n",
    " \n",
    "train_df = pd.read_csv(\"../artifacts/08_31_2025_12_35_02/data_ingestion/ingested/train.csv\")\n",
    "train_df.head()\n",
    "\n",
    "test_df = pd.read_csv(\"../artifacts/08_31_2025_12_35_02/data_ingestion/ingested/test.csv\")\n",
    "test_df.head()"
   ]
  },
  {
   "cell_type": "code",
   "execution_count": 8,
   "id": "3fd725f4",
   "metadata": {},
   "outputs": [
    {
     "name": "stdout",
     "output_type": "stream",
     "text": [
      "(227845, 31)\n",
      "(56962, 31)\n"
     ]
    }
   ],
   "source": [
    "print(train_df.shape)\n",
    "print(test_df.shape)"
   ]
  },
  {
   "cell_type": "code",
   "execution_count": 9,
   "id": "56194b9f",
   "metadata": {},
   "outputs": [
    {
     "data": {
      "text/plain": [
       "Index(['Time', 'V1', 'V2', 'V3', 'V4', 'V5', 'V6', 'V7', 'V8', 'V9', 'V10',\n",
       "       'V11', 'V12', 'V13', 'V14', 'V15', 'V16', 'V17', 'V18', 'V19', 'V20',\n",
       "       'V21', 'V22', 'V23', 'V24', 'V25', 'V26', 'V27', 'V28', 'Amount',\n",
       "       'Class'],\n",
       "      dtype='object')"
      ]
     },
     "execution_count": 9,
     "metadata": {},
     "output_type": "execute_result"
    }
   ],
   "source": [
    "train_df.columns"
   ]
  },
  {
   "cell_type": "code",
   "execution_count": null,
   "id": "9b98dba5",
   "metadata": {},
   "outputs": [],
   "source": []
  }
 ],
 "metadata": {
  "kernelspec": {
   "display_name": "Python 3",
   "language": "python",
   "name": "python3"
  },
  "language_info": {
   "codemirror_mode": {
    "name": "ipython",
    "version": 3
   },
   "file_extension": ".py",
   "mimetype": "text/x-python",
   "name": "python",
   "nbconvert_exporter": "python",
   "pygments_lexer": "ipython3",
   "version": "3.10.0"
  }
 },
 "nbformat": 4,
 "nbformat_minor": 5
}
