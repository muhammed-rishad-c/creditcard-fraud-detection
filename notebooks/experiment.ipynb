{
 "cells": [
  {
   "cell_type": "code",
   "execution_count": 1,
   "id": "dcccc64b",
   "metadata": {},
   "outputs": [
    {
     "name": "stderr",
     "output_type": "stream",
     "text": [
      "e:\\machine learning\\project\\creditcard-fraud-detection\\venv\\lib\\site-packages\\tqdm\\auto.py:21: TqdmWarning: IProgress not found. Please update jupyter and ipywidgets. See https://ipywidgets.readthedocs.io/en/stable/user_install.html\n",
      "  from .autonotebook import tqdm as notebook_tqdm\n"
     ]
    },
    {
     "name": "stdout",
     "output_type": "stream",
     "text": [
      "Path to dataset files: C:\\Users\\Rishad R\\.cache\\kagglehub\\datasets\\mlg-ulb\\creditcardfraud\\versions\\3\n"
     ]
    }
   ],
   "source": [
    "import kagglehub\n",
    "import os\n",
    "\n",
    "# Download latest version\n",
    "path = kagglehub.dataset_download(\"mlg-ulb/creditcardfraud\")\n",
    "\n",
    "print(\"Path to dataset files:\", path)\n",
    "\n",
    "dowloaded_path=\"C:\\\\Users\\\\Rishad R\\\\.cache\\\\kagglehub\\\\datasets\\\\mlg-ulb\\\\creditcardfraud\\\\versions\\\\3\"\n",
    "\n",
    "csv_filename=\"creditcard.csv\"\n",
    "\n",
    "csv_path=os.path.join(dowloaded_path,csv_filename)"
   ]
  },
  {
   "cell_type": "code",
   "execution_count": 2,
   "id": "6cd3f01e",
   "metadata": {},
   "outputs": [],
   "source": [
    "import pandas as pd\n",
    "\n",
    "try:\n",
    "    df=pd.read_csv(csv_path)\n",
    "    os.makedirs(\"../data\")\n",
    "    df.to_csv(\"../data/raw.csv\")\n",
    "except Exception as e:\n",
    "    print(e)"
   ]
  }
 ],
 "metadata": {
  "kernelspec": {
   "display_name": "Python 3",
   "language": "python",
   "name": "python3"
  },
  "language_info": {
   "codemirror_mode": {
    "name": "ipython",
    "version": 3
   },
   "file_extension": ".py",
   "mimetype": "text/x-python",
   "name": "python",
   "nbconvert_exporter": "python",
   "pygments_lexer": "ipython3",
   "version": "3.10.0"
  }
 },
 "nbformat": 4,
 "nbformat_minor": 5
}
